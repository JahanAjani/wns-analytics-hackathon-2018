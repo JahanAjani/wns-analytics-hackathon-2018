{
  "cells": [
    {
      "metadata": {
        "_uuid": "8f2839f25d086af736a60e9eeb907d3b93b6e0e5",
        "_cell_guid": "b1076dfc-b9ad-4769-8c92-a6c4dae69d19",
        "trusted": true,
        "collapsed": true
      },
      "cell_type": "code",
      "source": "import numpy as np # linear algebra\nimport pandas as pd # data processing, CSV file I/O (e.g. pd.read_csv)\nfrom sklearn import ensemble as em\nimport sklearn\nimport xgboost as xgb\nfrom catboost import CatBoostClassifier\n# Input data files are available in the \"../input/\" directory.\n# For example, running this (by clicking run or pressing Shift+Enter) will list the files in the input directory\n\nimport os\nprint(os.listdir(\".\"))\n\n# Any results you write to the current directory are saved as output.",
      "execution_count": null,
      "outputs": []
    },
    {
      "metadata": {
        "_cell_guid": "79c7e3d0-c299-4dcb-8224-4455121ee9b0",
        "_uuid": "d629ff2d2480ee46fbb7e2d37f6b5fab8052498a",
        "trusted": true,
        "collapsed": true
      },
      "cell_type": "code",
      "source": "# Load the data\ntrain_org = pd.read_csv(\"../input/train.csv\")\ntest_org = pd.read_csv(\"../input/test.csv\")",
      "execution_count": null,
      "outputs": []
    },
    {
      "metadata": {
        "trusted": true,
        "_uuid": "b64aed94266697e3ca69d822038e4f1f14498065",
        "collapsed": true
      },
      "cell_type": "code",
      "source": "train_org.head(5)",
      "execution_count": null,
      "outputs": []
    },
    {
      "metadata": {
        "trusted": true,
        "_uuid": "c2b3a9de9db964f626347b4849b54152a6fd46a9",
        "collapsed": true
      },
      "cell_type": "code",
      "source": "train_y = train_org['is_promoted']\nprint(train_y.shape)\n#train_x = train_org.drop(labels=['is_promoted'], axis=1)\n",
      "execution_count": null,
      "outputs": []
    },
    {
      "metadata": {
        "trusted": true,
        "_uuid": "760785a21bd2cb8b54489d781a07514b7fd80d04",
        "collapsed": true
      },
      "cell_type": "code",
      "source": "#print(train_x.head(2))\ntrain_x = train_org.drop(labels=['is_promoted'], axis=1)\ntrain_x = train_x.drop(labels=['employee_id'], axis=1)\ntest = test_org",
      "execution_count": null,
      "outputs": []
    },
    {
      "metadata": {
        "trusted": true,
        "_uuid": "37e575748e3e4161ef28235e5c4b10802a4423d7",
        "collapsed": true
      },
      "cell_type": "code",
      "source": "train_x['gender'] = train_x['gender'].map( {'f': 0, 'm': 1} ).astype(int)",
      "execution_count": null,
      "outputs": []
    },
    {
      "metadata": {
        "trusted": true,
        "_uuid": "0fbdc198b0c64bc2ce47a548bb8cfe88dc8d4b3d",
        "collapsed": true
      },
      "cell_type": "code",
      "source": "test['gender'] = test_org['gender'].map( {'f': 0, 'm': 1} ).astype(int)",
      "execution_count": null,
      "outputs": []
    },
    {
      "metadata": {
        "trusted": true,
        "scrolled": false,
        "_uuid": "6f50de531380769411989a330d870824ba0bebbc",
        "collapsed": true
      },
      "cell_type": "code",
      "source": "train_x['education'].isnull().sum()\n\n#train_x['education'] = train_x['education'].map( {\"Master's & above\": 0, \"Bachelor's\": 1} ).astype(int)\n#train_x = train_x.dropna()",
      "execution_count": null,
      "outputs": []
    },
    {
      "metadata": {
        "trusted": true,
        "_uuid": "c2afa37e40593904a7359fa24e139f33aaa6044f",
        "collapsed": true
      },
      "cell_type": "code",
      "source": "test['recruitment_channel'] = test['recruitment_channel'].map({'sourcing':2, 'other':3, 'referred':1})\ntest['region'] = test['region'].map({'region_7':7, 'region_22':22, 'region_19':19, 'region_23':23, 'region_26':26,\n       'region_2':2, 'region_20':20, 'region_34':34, 'region_1':1, 'region_4':4,\n       'region_29':29, 'region_31':31, 'region_15':15, 'region_14':14, 'region_11':11,\n       'region_5':5, 'region_28':28, 'region_17':17, 'region_13':13, 'region_16':16,\n       'region_25':25, 'region_10':10, 'region_27':27, 'region_30':30, 'region_12':12,\n       'region_21':21, 'region_8':8, 'region_32':32, 'region_6':6, 'region_33':33,\n       'region_24':24, 'region_3':3, 'region_9':9, 'region_18':18})\ntest['department']=test['department'].map( {'Sales & Marketing':0, 'Operations':1, 'Technology':2, 'Analytics':3,'R&D':4, 'Procurement':5, 'Finance':6, 'HR':7, 'Legal':8} ).astype(int)\ntest['education'] = test['education'].fillna('not req')\ntest['education'] = test['education'].map( {\"Master's & above\": 0, \"Bachelor's\": 1, 'Below Secondary': 2, \"not req\":3} ).astype(int)",
      "execution_count": null,
      "outputs": []
    },
    {
      "metadata": {
        "trusted": true,
        "_uuid": "da8e10b566d716a8bcb385a7fce2af6e4438512d",
        "collapsed": true
      },
      "cell_type": "code",
      "source": "train_x['recruitment_channel'].unique()\ntrain_x['recruitment_channel'] = train_x['recruitment_channel'].map({'sourcing':2, 'other':3, 'referred':1})",
      "execution_count": null,
      "outputs": []
    },
    {
      "metadata": {
        "trusted": true,
        "_uuid": "37911114bc03f412b57679032d5165d9bd238d17",
        "collapsed": true
      },
      "cell_type": "code",
      "source": "train_x['region'].unique()\ntrain_x['region'] = train_x['region'].map({'region_7':7, 'region_22':22, 'region_19':19, 'region_23':23, 'region_26':26,\n       'region_2':2, 'region_20':20, 'region_34':34, 'region_1':1, 'region_4':4,\n       'region_29':29, 'region_31':31, 'region_15':15, 'region_14':14, 'region_11':11,\n       'region_5':5, 'region_28':28, 'region_17':17, 'region_13':13, 'region_16':16,\n       'region_25':25, 'region_10':10, 'region_27':27, 'region_30':30, 'region_12':12,\n       'region_21':21, 'region_8':8, 'region_32':32, 'region_6':6, 'region_33':33,\n       'region_24':24, 'region_3':3, 'region_9':9, 'region_18':18})\n\n",
      "execution_count": null,
      "outputs": []
    },
    {
      "metadata": {
        "trusted": true,
        "_uuid": "ab1ae24144cd5c73f960d63c1f9723a61e144431",
        "collapsed": true
      },
      "cell_type": "code",
      "source": "train_x['region'].unique()",
      "execution_count": null,
      "outputs": []
    },
    {
      "metadata": {
        "trusted": true,
        "_uuid": "2ac19f1d353c902de9023ff013a95a554b2755e5",
        "collapsed": true
      },
      "cell_type": "code",
      "source": "train_x['department'].unique()\ntrain_x['department']=train_x['department'].map( {'Sales & Marketing':0, 'Operations':1, 'Technology':2, 'Analytics':3,'R&D':4, 'Procurement':5, 'Finance':6, 'HR':7, 'Legal':8} ).astype(int)",
      "execution_count": null,
      "outputs": []
    },
    {
      "metadata": {
        "trusted": true,
        "scrolled": true,
        "_uuid": "4583240b804d253e77f714b45003e28edc869d67",
        "collapsed": true
      },
      "cell_type": "code",
      "source": "train_x['education'] = train_x['education'].fillna('not req')\ntrain_x['education'].unique()\ntrain_x['education'] = train_x['education'].map( {\"Master's & above\": 0, \"Bachelor's\": 1, 'Below Secondary': 2, \"not req\":3} ).astype(int)",
      "execution_count": null,
      "outputs": []
    },
    {
      "metadata": {
        "trusted": true,
        "scrolled": true,
        "_uuid": "b1880e7391acb951c28e1e031a7e63b4589df93d",
        "collapsed": true
      },
      "cell_type": "code",
      "source": "test['education'].unique()\n#test['education'] = test['education'].map( {\"Master's & above\": 0, \"Bachelor's\": 1, 'Below Secondary': 2} ).astype(int)\n#train_x[\"education\"]",
      "execution_count": null,
      "outputs": []
    },
    {
      "metadata": {
        "trusted": true,
        "_uuid": "eac972b9c4454d04c7b919791f7e0b7f450c0835",
        "collapsed": true
      },
      "cell_type": "code",
      "source": "from sklearn.model_selection import train_test_split\nxtrain,xtest,ytrain,ytest = train_test_split(train_x,train_y,train_size=.8,random_state=1234)",
      "execution_count": null,
      "outputs": []
    },
    {
      "metadata": {
        "trusted": true,
        "_uuid": "4bc2bb031cd20ba4caa88d252c8f22faa5379842",
        "collapsed": true
      },
      "cell_type": "code",
      "source": "model3 = CatBoostClassifier(iterations=1200, learning_rate=0.02, depth=7, loss_function='Logloss', eval_metric='F1') \n",
      "execution_count": null,
      "outputs": []
    },
    {
      "metadata": {
        "trusted": true,
        "_uuid": "9e6adc32b6cbbb09ad4c9876e41bfa5046247637",
        "collapsed": true
      },
      "cell_type": "code",
      "source": "model3.fit(xtrain, ytrain, use_best_model=True, verbose=True, eval_set=(xtest,ytest))",
      "execution_count": null,
      "outputs": []
    },
    {
      "metadata": {
        "trusted": true,
        "_uuid": "7d6371e9c04c77692264b005efd62070a2230af2",
        "collapsed": true
      },
      "cell_type": "code",
      "source": "model3.score(train_x[:3],train_y[:3])",
      "execution_count": null,
      "outputs": []
    },
    {
      "metadata": {
        "trusted": true,
        "_uuid": "d83de68f1eca446a3641dbb197895c60eb6024ae",
        "collapsed": true
      },
      "cell_type": "code",
      "source": "sub_samp = pd.read_csv(\"../input/sample_submission.csv\")",
      "execution_count": null,
      "outputs": []
    },
    {
      "metadata": {
        "trusted": true,
        "_uuid": "12dc5dc1b2e419358723310bdac680dc419efb36",
        "collapsed": true
      },
      "cell_type": "code",
      "source": "sub_samp.head(5)",
      "execution_count": null,
      "outputs": []
    },
    {
      "metadata": {
        "trusted": true,
        "_uuid": "2ae231ae0eb58ace3cf1ff358ed13f0c6b38f370",
        "collapsed": true
      },
      "cell_type": "code",
      "source": "test_y = test['employee_id']\nprint(test_y.shape)\ntest = test.drop(labels=['employee_id'], axis=1)",
      "execution_count": null,
      "outputs": []
    },
    {
      "metadata": {
        "trusted": true,
        "scrolled": true,
        "_uuid": "72e9e95d3b5d010fb1f09411bfe20995126aeeb7",
        "collapsed": true
      },
      "cell_type": "code",
      "source": "predt = model3.predict(test).astype('int')\n#pd.DataFrame([test_y,predt],columns=['employee_id','is_promoted'])\n#test[['id','target']].to_csv('catboost_submission.csv', index=False\n\nStackingSubmission = pd.DataFrame({ 'employee_id': test_y,\n                            'is_promoted': predt })\nStackingSubmission['is_promoted'].unique()\nStackingSubmission.to_csv(\"submission.csv\", index=False)",
      "execution_count": null,
      "outputs": []
    }
  ],
  "metadata": {
    "kernelspec": {
      "display_name": "Python 3",
      "language": "python",
      "name": "python3"
    },
    "language_info": {
      "name": "python",
      "version": "3.6.4",
      "mimetype": "text/x-python",
      "codemirror_mode": {
        "name": "ipython",
        "version": 3
      },
      "pygments_lexer": "ipython3",
      "nbconvert_exporter": "python",
      "file_extension": ".py"
    }
  },
  "nbformat": 4,
  "nbformat_minor": 1
}